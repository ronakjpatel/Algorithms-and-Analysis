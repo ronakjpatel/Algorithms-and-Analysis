{
 "cells": [
  {
   "cell_type": "code",
   "execution_count": 3,
   "metadata": {},
   "outputs": [],
   "source": [
    "\n",
    "# Number of vertices in the graph\n",
    "vertices = 4\n",
    "\n",
    "\n",
    "# Define infinity as the large\n",
    "# enough value. Usually this value will never be used in graph to define the distances.\n",
    "INF = 999999\n",
    "\n",
    "\n",
    "\n",
    "def floydWarshall(graph):\n",
    "   \n",
    "    \"\"\" dist[][] will be the output\n",
    "       matrix that will finally\n",
    "        have the shortest distances\n",
    "        between every pair of vertices \"\"\"\n",
    "    \"\"\" initializing the solution matrix\n",
    "    same as input graph matrix\n",
    "    OR we can say that the initial\n",
    "    values of shortest distances\n",
    "    are based on shortest paths considering no\n",
    "    intermediate vertices \"\"\"\n",
    " \n",
    "    dist = list(map(lambda i: list(map(lambda j: j, i)), graph))\n",
    " \n",
    "    \"\"\" Add all vertices one by one\n",
    "    to the set of intermediate\n",
    "     vertices.\n",
    "     ---> Before start of an iteration,\n",
    "     we have shortest distances\n",
    "     between all pairs of vertices\n",
    "     such that the shortest\n",
    "     distances consider only the\n",
    "     vertices in the set\n",
    "    {0, 1, 2, .. k-1} as intermediate vertices.\n",
    "      ----> After the end of a\n",
    "      iteration, vertex no. k is\n",
    "     added to the set of intermediate\n",
    "     vertices and the\n",
    "    set becomes {0, 1, 2, .. k}\n",
    "    \"\"\"\n",
    "    for k in range(vertices):\n",
    " \n",
    "        # pick all vertices as source one by one\n",
    "        for i in range(vertices):\n",
    " \n",
    "            # Pick all vertices as destination for the\n",
    "            # above picked source\n",
    "            for j in range(vertices):\n",
    " \n",
    "                # If vertex k is on the shortest path from\n",
    "                # i to j, then update the value of dist[i][j]\n",
    "                dist[i][j] = min(dist[i][j],\n",
    "                                 dist[i][k] + dist[k][j]\n",
    "                                 )\n",
    "    printSolution(dist)\n",
    "\n",
    "\n",
    "\n",
    "    # A utility function to print the solution\n",
    "def printSolution(dist):\n",
    "    print (\"Following matrix shows the shortest distances\\\n",
    " between every pair of vertices\")\n",
    "    for i in range(vertices):\n",
    "        for j in range(vertices):\n",
    "            if(dist[i][j] == INF):\n",
    "                print (\"%7s\" % (\"INF\"),end=\" \")\n",
    "            else:\n",
    "                print (\"%7d\\t\" % (dist[i][j]),end=' ')\n",
    "            if j == vertices-1:\n",
    "                print ()\n",
    "\n",
    "\n"
   ]
  },
  {
   "cell_type": "code",
   "execution_count": 4,
   "metadata": {},
   "outputs": [
    {
     "name": "stdout",
     "output_type": "stream",
     "text": [
      "Following matrix shows the shortest distances between every pair of vertices\n",
      "      0\t       2\t      11\t       1\t \n",
      "    INF       0\t       9\t      15\t \n",
      "    INF     INF       0\t       6\t \n",
      "    INF     INF     INF       0\t \n"
     ]
    }
   ],
   "source": [
    "# Driver program to test the above program\n",
    "# Let us create the following weighted graph\n",
    "\"\"\"\n",
    "            1\n",
    "       (0)------->(3)\n",
    "        |         /|\\\n",
    "      2 |          |\n",
    "        |          | 6\n",
    "       \\|/         |\n",
    "       (1)------->(2)\n",
    "            9           \"\"\"\n",
    "graph = [[0, 2, INF, 1],\n",
    "         [INF, 0, 9, INF],\n",
    "         [INF, INF, 0,   6],\n",
    "         [INF, INF, INF, 0]\n",
    "         ]\n",
    "# Print the solution\n",
    "floydWarshall(graph)\n"
   ]
  },
  {
   "cell_type": "code",
   "execution_count": null,
   "metadata": {},
   "outputs": [],
   "source": []
  },
  {
   "cell_type": "code",
   "execution_count": null,
   "metadata": {},
   "outputs": [],
   "source": []
  }
 ],
 "metadata": {
  "kernelspec": {
   "display_name": "Python 3",
   "language": "python",
   "name": "python3"
  },
  "language_info": {
   "codemirror_mode": {
    "name": "ipython",
    "version": 3
   },
   "file_extension": ".py",
   "mimetype": "text/x-python",
   "name": "python",
   "nbconvert_exporter": "python",
   "pygments_lexer": "ipython3",
   "version": "3.6.9"
  }
 },
 "nbformat": 4,
 "nbformat_minor": 2
}
